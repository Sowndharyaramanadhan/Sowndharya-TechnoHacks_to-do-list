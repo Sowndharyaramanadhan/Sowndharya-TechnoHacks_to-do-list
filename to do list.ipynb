{
 "cells": [
  {
   "cell_type": "markdown",
   "id": "3cc44623",
   "metadata": {},
   "source": [
    "# Task 7: To-Do List\n",
    "Create a program that allows the user to create and manage a to-do list."
   ]
  },
  {
   "cell_type": "code",
   "execution_count": 10,
   "id": "71d2bae8",
   "metadata": {},
   "outputs": [],
   "source": [
    "import tkinter as tk\n",
    "from tkinter import messagebox\n",
    "\n",
    "def add_task():\n",
    "    global entry_task\n",
    "    global listbox_tasks\n",
    "\n",
    "    task = entry_task.get()\n",
    "    if task:\n",
    "        listbox_tasks.insert(tk.END, task)\n",
    "        entry_task.delete(0, tk.END)\n",
    "    else:\n",
    "        messagebox.showwarning(\"Warning\", \"Please enter a task.\")\n",
    "\n",
    "def delete_task():\n",
    "    global listbox_tasks\n",
    "\n",
    "    try:\n",
    "        selected_index = listbox_tasks.curselection()[0]\n",
    "        listbox_tasks.delete(selected_index)\n",
    "    except IndexError:\n",
    "        messagebox.showwarning(\"Warning\", \"Please select a task to delete.\")\n",
    "\n",
    "def clear_tasks():\n",
    "    global listbox_tasks\n",
    "\n",
    "    listbox_tasks.delete(0, tk.END)\n",
    "\n",
    "def main():\n",
    "    global entry_task\n",
    "    global listbox_tasks\n",
    "\n",
    "    root = tk.Tk()\n",
    "    root.title(\"To-Do List\")\n",
    "\n",
    "    frame_tasks = tk.Frame(root)\n",
    "    frame_tasks.pack()\n",
    "\n",
    "    listbox_tasks = tk.Listbox(frame_tasks, height=10, width=50)\n",
    "    listbox_tasks.pack(side=tk.LEFT)\n",
    "\n",
    "    scrollbar_tasks = tk.Scrollbar(frame_tasks)\n",
    "    scrollbar_tasks.pack(side=tk.RIGHT, fill=tk.Y)\n",
    "\n",
    "    listbox_tasks.config(yscrollcommand=scrollbar_tasks.set)\n",
    "    scrollbar_tasks.config(command=listbox_tasks.yview)\n",
    "\n",
    "    entry_task = tk.Entry(root, width=50)\n",
    "    entry_task.pack()\n",
    "\n",
    "    button_add_task = tk.Button(root, text=\"Add Task\", width=48, command=add_task)\n",
    "    button_add_task.pack()\n",
    "\n",
    "    button_delete_task = tk.Button(root, text=\"Delete Task\", width=48, command=delete_task)\n",
    "    button_delete_task.pack()\n",
    "\n",
    "    button_clear_tasks = tk.Button(root, text=\"Clear All\", width=48, command=clear_tasks)\n",
    "    button_clear_tasks.pack()\n",
    "\n",
    "    root.mainloop()\n",
    "\n",
    "if __name__ == \"__main__\":\n",
    "    main()\n"
   ]
  },
  {
   "cell_type": "code",
   "execution_count": null,
   "id": "1b55bd56",
   "metadata": {},
   "outputs": [],
   "source": []
  }
 ],
 "metadata": {
  "kernelspec": {
   "display_name": "Python 3 (ipykernel)",
   "language": "python",
   "name": "python3"
  },
  "language_info": {
   "codemirror_mode": {
    "name": "ipython",
    "version": 3
   },
   "file_extension": ".py",
   "mimetype": "text/x-python",
   "name": "python",
   "nbconvert_exporter": "python",
   "pygments_lexer": "ipython3",
   "version": "3.10.9"
  }
 },
 "nbformat": 4,
 "nbformat_minor": 5
}
